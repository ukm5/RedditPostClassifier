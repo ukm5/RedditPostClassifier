{
 "cells": [
  {
   "cell_type": "markdown",
   "metadata": {},
   "source": [
    "# Project 3 - Reddit classifier\n",
    "\n",
    "## Part A) Extracting data from subreddits to create ML models using NLP"
   ]
  },
  {
   "cell_type": "markdown",
   "metadata": {},
   "source": [
    "### Problem statement: \n",
    "##### Extracting data from the `tea` and `Coffee` subreddits using API wrapper PRAW, as outlined by Reddit. A maximum of 1000 posts maybe obtained using API requests, and for the subreddits modeled in this projects, two data sets of approximately 1000 posts must be obtained."
   ]
  },
  {
   "cell_type": "code",
   "execution_count": 1,
   "metadata": {},
   "outputs": [],
   "source": [
    "# Import necessary libraries and modules\n",
    "import pandas as pd\n",
    "import requests\n",
    "import json, praw\n",
    "import datetime as dt"
   ]
  },
  {
   "cell_type": "code",
   "execution_count": 2,
   "metadata": {},
   "outputs": [
    {
     "data": {
      "text/plain": [
       "dict_keys(['id', 'secret', 'user', 'pass'])"
      ]
     },
     "execution_count": 2,
     "metadata": {},
     "output_type": "execute_result"
    }
   ],
   "source": [
    "# Reading in the necessary Reddit credentials from the json file on local machine\n",
    "creds_file = open('./../../../../creds.json', 'r')\n",
    "reddit_creds = json.loads(creds_file.read())\n",
    "reddit_creds.keys()"
   ]
  },
  {
   "cell_type": "code",
   "execution_count": 3,
   "metadata": {},
   "outputs": [],
   "source": [
    "# Instatiate a class Reddit\n",
    "reddit = praw.Reddit(client_id = reddit_creds['id'],\n",
    "            client_secret = reddit_creds['secret'],\n",
    "            password = reddit_creds['pass'],\n",
    "            username = reddit_creds['user'],\n",
    "            user_agent = 'uday')"
   ]
  },
  {
   "cell_type": "code",
   "execution_count": 4,
   "metadata": {},
   "outputs": [],
   "source": [
    "# Two subreddits we are attemtping to classify\n",
    "tea = reddit.subreddit('tea')\n",
    "coffee = reddit.subreddit('Coffee')"
   ]
  },
  {
   "cell_type": "code",
   "execution_count": 5,
   "metadata": {},
   "outputs": [],
   "source": [
    "# Accessing the top posts from the two subreddits\n",
    "tea_top_1000 = tea.top(limit=1000)\n",
    "coffee_top_1000 = coffee.top(limit=1000)\n",
    "tea_top = [submission for submission in tea_top_1000]\n",
    "coffee_top = [submission for submission in coffee_top_1000]"
   ]
  },
  {
   "cell_type": "code",
   "execution_count": 6,
   "metadata": {},
   "outputs": [],
   "source": [
    "# Creating dictionaries for tea and coffee \n",
    "tea_dict, coffee_dict = {}, {}\n",
    "tea_dict['title'] = []\n",
    "tea_dict['id'] = []\n",
    "tea_dict['over_18'] = []\n",
    "tea_dict['is_self'] = []\n",
    "tea_dict['selftext'] = []\n",
    "tea_dict['score'] = []\n",
    "tea_dict['rank'] = []\n",
    "tea_dict['created'] = []\n",
    "\n",
    "coffee_dict['title'] = []\n",
    "coffee_dict['id'] = []\n",
    "coffee_dict['over_18'] = []\n",
    "coffee_dict['is_self'] = []\n",
    "coffee_dict['selftext'] = []\n",
    "coffee_dict['score'] = []\n",
    "coffee_dict['rank'] = []\n",
    "coffee_dict['created'] = []"
   ]
  },
  {
   "cell_type": "code",
   "execution_count": 7,
   "metadata": {},
   "outputs": [],
   "source": [
    "# Creating dictionary of lists \n",
    "for idx,item in enumerate(tea_top):\n",
    "    tea_dict['title'].append(item.title)\n",
    "    tea_dict['id'].append(item.id)\n",
    "    tea_dict['over_18'].append(item.over_18)\n",
    "    tea_dict['is_self'].append(item.is_self)\n",
    "    tea_dict['selftext'].append(item.selftext)\n",
    "    tea_dict['score'].append(item.score)\n",
    "    tea_dict['rank'].append(idx+1)\n",
    "    tea_dict['created'].append(item.created_utc)\n",
    "\n",
    "for idx, item in enumerate(coffee_top):\n",
    "    coffee_dict['title'].append(item.title)\n",
    "    coffee_dict['id'].append(item.id)\n",
    "    coffee_dict['over_18'].append(item.over_18)\n",
    "    coffee_dict['is_self'].append(item.is_self)\n",
    "    coffee_dict['selftext'].append(item.selftext)\n",
    "    coffee_dict['score'].append(item.score)\n",
    "    coffee_dict['rank'].append(idx+1)\n",
    "    coffee_dict['created'].append(item.created_utc)"
   ]
  },
  {
   "cell_type": "code",
   "execution_count": 9,
   "metadata": {},
   "outputs": [],
   "source": [
    "# Creating another file with the public description and total subscribers\n",
    "tea_subreddit_info = {'subscribers': [tea.subscribers], 'public_description':[tea.public_description]}\n",
    "coffee_subreddit_info = {'subscribers': [coffee.subscribers], 'public_description':[coffee.public_description]}"
   ]
  },
  {
   "cell_type": "code",
   "execution_count": 10,
   "metadata": {},
   "outputs": [],
   "source": [
    "# Creating dataframes\n",
    "tea_data = pd.DataFrame(tea_dict)\n",
    "coffee_data = pd.DataFrame(coffee_dict)"
   ]
  },
  {
   "cell_type": "code",
   "execution_count": 11,
   "metadata": {},
   "outputs": [],
   "source": [
    "# Code for converting Unix timestamp inspired from the following blog of \"Felippe Rodrigues\"\n",
    "# http://www.storybench.org/how-to-scrape-reddit-with-python/\n",
    "\n",
    "tea_data['created'] = tea_data['created'].map(lambda x: dt.datetime.fromtimestamp(x))\n",
    "coffee_data['created'] = coffee_data['created'].map(lambda x: dt.datetime.fromtimestamp(x))"
   ]
  },
  {
   "cell_type": "code",
   "execution_count": 12,
   "metadata": {},
   "outputs": [
    {
     "data": {
      "text/html": [
       "<div>\n",
       "<style scoped>\n",
       "    .dataframe tbody tr th:only-of-type {\n",
       "        vertical-align: middle;\n",
       "    }\n",
       "\n",
       "    .dataframe tbody tr th {\n",
       "        vertical-align: top;\n",
       "    }\n",
       "\n",
       "    .dataframe thead th {\n",
       "        text-align: right;\n",
       "    }\n",
       "</style>\n",
       "<table border=\"1\" class=\"dataframe\">\n",
       "  <thead>\n",
       "    <tr style=\"text-align: right;\">\n",
       "      <th></th>\n",
       "      <th>title</th>\n",
       "      <th>id</th>\n",
       "      <th>over_18</th>\n",
       "      <th>is_self</th>\n",
       "      <th>selftext</th>\n",
       "      <th>score</th>\n",
       "      <th>rank</th>\n",
       "      <th>created</th>\n",
       "    </tr>\n",
       "  </thead>\n",
       "  <tbody>\n",
       "    <tr>\n",
       "      <td>0</td>\n",
       "      <td>Perfect job doesn't exi-</td>\n",
       "      <td>7xhbzb</td>\n",
       "      <td>False</td>\n",
       "      <td>False</td>\n",
       "      <td></td>\n",
       "      <td>8271</td>\n",
       "      <td>1</td>\n",
       "      <td>2018-02-14 03:20:05</td>\n",
       "    </tr>\n",
       "    <tr>\n",
       "      <td>1</td>\n",
       "      <td>One thing coffee and tea drinkers can agree on...</td>\n",
       "      <td>57wi79</td>\n",
       "      <td>False</td>\n",
       "      <td>False</td>\n",
       "      <td></td>\n",
       "      <td>7908</td>\n",
       "      <td>2</td>\n",
       "      <td>2016-10-17 02:43:14</td>\n",
       "    </tr>\n",
       "    <tr>\n",
       "      <td>2</td>\n",
       "      <td>4chan's Beginners Guide on Tea</td>\n",
       "      <td>63lb7c</td>\n",
       "      <td>False</td>\n",
       "      <td>False</td>\n",
       "      <td></td>\n",
       "      <td>5975</td>\n",
       "      <td>3</td>\n",
       "      <td>2017-04-05 05:49:29</td>\n",
       "    </tr>\n",
       "    <tr>\n",
       "      <td>3</td>\n",
       "      <td>My buddies like the warmth</td>\n",
       "      <td>603d65</td>\n",
       "      <td>False</td>\n",
       "      <td>False</td>\n",
       "      <td></td>\n",
       "      <td>4339</td>\n",
       "      <td>4</td>\n",
       "      <td>2017-03-18 02:46:23</td>\n",
       "    </tr>\n",
       "    <tr>\n",
       "      <td>4</td>\n",
       "      <td>There's no better way to do it. [x-post /r/iran]</td>\n",
       "      <td>5g35da</td>\n",
       "      <td>False</td>\n",
       "      <td>False</td>\n",
       "      <td></td>\n",
       "      <td>4317</td>\n",
       "      <td>5</td>\n",
       "      <td>2016-12-02 05:06:24</td>\n",
       "    </tr>\n",
       "  </tbody>\n",
       "</table>\n",
       "</div>"
      ],
      "text/plain": [
       "                                               title      id  over_18  \\\n",
       "0                           Perfect job doesn't exi-  7xhbzb    False   \n",
       "1  One thing coffee and tea drinkers can agree on...  57wi79    False   \n",
       "2                     4chan's Beginners Guide on Tea  63lb7c    False   \n",
       "3                         My buddies like the warmth  603d65    False   \n",
       "4   There's no better way to do it. [x-post /r/iran]  5g35da    False   \n",
       "\n",
       "   is_self selftext  score  rank             created  \n",
       "0    False            8271     1 2018-02-14 03:20:05  \n",
       "1    False            7908     2 2016-10-17 02:43:14  \n",
       "2    False            5975     3 2017-04-05 05:49:29  \n",
       "3    False            4339     4 2017-03-18 02:46:23  \n",
       "4    False            4317     5 2016-12-02 05:06:24  "
      ]
     },
     "execution_count": 12,
     "metadata": {},
     "output_type": "execute_result"
    }
   ],
   "source": [
    "tea_data.head()"
   ]
  },
  {
   "cell_type": "code",
   "execution_count": 13,
   "metadata": {},
   "outputs": [
    {
     "data": {
      "text/html": [
       "<div>\n",
       "<style scoped>\n",
       "    .dataframe tbody tr th:only-of-type {\n",
       "        vertical-align: middle;\n",
       "    }\n",
       "\n",
       "    .dataframe tbody tr th {\n",
       "        vertical-align: top;\n",
       "    }\n",
       "\n",
       "    .dataframe thead th {\n",
       "        text-align: right;\n",
       "    }\n",
       "</style>\n",
       "<table border=\"1\" class=\"dataframe\">\n",
       "  <thead>\n",
       "    <tr style=\"text-align: right;\">\n",
       "      <th></th>\n",
       "      <th>title</th>\n",
       "      <th>id</th>\n",
       "      <th>over_18</th>\n",
       "      <th>is_self</th>\n",
       "      <th>selftext</th>\n",
       "      <th>score</th>\n",
       "      <th>rank</th>\n",
       "      <th>created</th>\n",
       "    </tr>\n",
       "  </thead>\n",
       "  <tbody>\n",
       "    <tr>\n",
       "      <td>0</td>\n",
       "      <td>How do I use a coffee press?</td>\n",
       "      <td>df881q</td>\n",
       "      <td>False</td>\n",
       "      <td>True</td>\n",
       "      <td>Do I have to grind the beans, or just put them...</td>\n",
       "      <td>11941</td>\n",
       "      <td>1</td>\n",
       "      <td>2019-10-08 16:20:33</td>\n",
       "    </tr>\n",
       "    <tr>\n",
       "      <td>1</td>\n",
       "      <td>An update for you pretentious fucks</td>\n",
       "      <td>5nxd2u</td>\n",
       "      <td>False</td>\n",
       "      <td>True</td>\n",
       "      <td>I posted here last week asking for recommendat...</td>\n",
       "      <td>3074</td>\n",
       "      <td>2</td>\n",
       "      <td>2017-01-14 05:12:05</td>\n",
       "    </tr>\n",
       "    <tr>\n",
       "      <td>2</td>\n",
       "      <td>Hey guys, it's been 44 days since hurricane Ma...</td>\n",
       "      <td>7anryf</td>\n",
       "      <td>False</td>\n",
       "      <td>True</td>\n",
       "      <td>I though you guys could understand my frustrat...</td>\n",
       "      <td>2072</td>\n",
       "      <td>3</td>\n",
       "      <td>2017-11-03 18:13:18</td>\n",
       "    </tr>\n",
       "    <tr>\n",
       "      <td>3</td>\n",
       "      <td>10 things you may not know about coffee. I'm a...</td>\n",
       "      <td>1z0qje</td>\n",
       "      <td>False</td>\n",
       "      <td>False</td>\n",
       "      <td></td>\n",
       "      <td>2042</td>\n",
       "      <td>4</td>\n",
       "      <td>2014-02-26 12:29:14</td>\n",
       "    </tr>\n",
       "    <tr>\n",
       "      <td>4</td>\n",
       "      <td>Former Rams fan here, I'm making the switch</td>\n",
       "      <td>40qsem</td>\n",
       "      <td>False</td>\n",
       "      <td>True</td>\n",
       "      <td>I've always considered myself a casual fan of ...</td>\n",
       "      <td>1657</td>\n",
       "      <td>5</td>\n",
       "      <td>2016-01-12 22:27:42</td>\n",
       "    </tr>\n",
       "  </tbody>\n",
       "</table>\n",
       "</div>"
      ],
      "text/plain": [
       "                                               title      id  over_18  \\\n",
       "0                       How do I use a coffee press?  df881q    False   \n",
       "1                An update for you pretentious fucks  5nxd2u    False   \n",
       "2  Hey guys, it's been 44 days since hurricane Ma...  7anryf    False   \n",
       "3  10 things you may not know about coffee. I'm a...  1z0qje    False   \n",
       "4        Former Rams fan here, I'm making the switch  40qsem    False   \n",
       "\n",
       "   is_self                                           selftext  score  rank  \\\n",
       "0     True  Do I have to grind the beans, or just put them...  11941     1   \n",
       "1     True  I posted here last week asking for recommendat...   3074     2   \n",
       "2     True  I though you guys could understand my frustrat...   2072     3   \n",
       "3    False                                                      2042     4   \n",
       "4     True  I've always considered myself a casual fan of ...   1657     5   \n",
       "\n",
       "              created  \n",
       "0 2019-10-08 16:20:33  \n",
       "1 2017-01-14 05:12:05  \n",
       "2 2017-11-03 18:13:18  \n",
       "3 2014-02-26 12:29:14  \n",
       "4 2016-01-12 22:27:42  "
      ]
     },
     "execution_count": 13,
     "metadata": {},
     "output_type": "execute_result"
    }
   ],
   "source": [
    "coffee_data.head()"
   ]
  },
  {
   "cell_type": "code",
   "execution_count": 14,
   "metadata": {},
   "outputs": [],
   "source": [
    "# Writing the dataframes to csv files\n",
    "tea_data.to_csv('./../data/tea_data.csv',index=False)\n",
    "coffee_data.to_csv('./../data/coffee_data.csv',index=False)\n",
    "pd.DataFrame(tea_subreddit_info).to_csv('./../data/tea_info.csv', index=False)\n",
    "pd.DataFrame(coffee_subreddit_info).to_csv('./../data/coffee_info.csv',index=False)"
   ]
  },
  {
   "cell_type": "code",
   "execution_count": null,
   "metadata": {},
   "outputs": [],
   "source": []
  }
 ],
 "metadata": {
  "kernelspec": {
   "display_name": "Python 3",
   "language": "python",
   "name": "python3"
  },
  "language_info": {
   "codemirror_mode": {
    "name": "ipython",
    "version": 3
   },
   "file_extension": ".py",
   "mimetype": "text/x-python",
   "name": "python",
   "nbconvert_exporter": "python",
   "pygments_lexer": "ipython3",
   "version": "3.7.3"
  }
 },
 "nbformat": 4,
 "nbformat_minor": 2
}
